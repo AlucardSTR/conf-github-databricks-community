{
 "cells": [
  {
   "cell_type": "code",
   "execution_count": 0,
   "metadata": {
    "application/vnd.databricks.v1+cell": {
     "cellMetadata": {
      "byteLimit": 2048000,
      "rowLimit": 10000
     },
     "inputWidgets": {},
     "nuid": "998abb53-d98e-48ed-a617-3202c4898f82",
     "showTitle": false,
     "title": ""
    }
   },
   "outputs": [],
   "source": [
    "#%pip install gitpython"
   ]
  },
  {
   "cell_type": "code",
   "execution_count": 0,
   "metadata": {
    "application/vnd.databricks.v1+cell": {
     "cellMetadata": {},
     "inputWidgets": {},
     "nuid": "248e5ec4-6bad-41f5-8946-a02c3c3f6989",
     "showTitle": false,
     "title": ""
    }
   },
   "outputs": [],
   "source": [
    "import git\n",
    "\n",
    "# Substitua a URL abaixo pela URL do seu repositório no GitHub\n",
    "repo_url = \"https://github.com/seu-usuario/seu-repositorio.git\"\n",
    "\n",
    "# Substitua as credenciais abaixo pelo seu token de acesso pessoal\n",
    "username = \"seu-usuario\"\n",
    "password = \"seu-token-de-acesso-github\"\n",
    "\n",
    "# Clonar o repositório\n",
    "git.Repo.clone_from(repo_url, \"/dbfs/tmp/repo\", auth=(username, password))\n"
   ]
  },
  {
   "cell_type": "markdown",
   "metadata": {
    "application/vnd.databricks.v1+cell": {
     "cellMetadata": {},
     "inputWidgets": {},
     "nuid": "8d66e456-6465-4256-bd8a-0b7c3f63a639",
     "showTitle": false,
     "title": ""
    }
   },
   "source": [
    "    Certifique-se de substituir https://github.com/seu-usuario/seu-repositorio.git pela URL do seu repositório e forneça seu nome de usuário e token de acesso pessoal.\n",
    "\n",
    "A partir deste ponto, você pode trabalhar com seus notebooks no diretório clonado e usar o Git para versionamento, commit e push das alterações de volta para o GitHub. Lembre-se de manter suas credenciais de acesso de forma segura e considere a possibilidade de usar alternativas mais seguras, como SSH, dependendo da sua configuração de segurança.\n",
    "\n",
    "Além da abordagem mencionada anteriormente, você pode considerar outras alternativas mais seguras para integração entre o GitHub e o Databricks, especialmente em relação ao manuseio de credenciais. Aqui estão algumas opções:\n",
    "\n",
    "    SSH Authentication:\n",
    "        Em vez de usar um token de acesso pessoal, você pode configurar a autenticação SSH entre o Databricks e o GitHub. Isso envolve a criação de um par de chaves SSH e a adição da chave pública ao seu perfil do GitHub.\n",
    "        No Databricks, você pode usar uma biblioteca como paramiko para interagir com o GitHub via SSH.\n",
    "\n",
    "    GitHub Actions:\n",
    "        Considere o uso do GitHub Actions para automatizar o processo de integração entre o Databricks e o GitHub. Você pode configurar workflows no GitHub Actions para executar tarefas específicas sempre que houver alterações no seu repositório.\n",
    "        Por exemplo, você pode configurar um workflow que automaticamente clone os notebooks do GitHub para o ambiente Databricks quando houver um push para o repositório.\n",
    "\n",
    "    Azure DevOps Services:\n",
    "        Se você estiver usando Azure DevOps Services para gerenciamento de código e pipelines, você pode integrar seus notebooks Databricks diretamente com o Azure DevOps. O Databricks fornece uma integração nativa com o Azure DevOps Services.\n",
    "\n",
    "    Databricks Repos:\n",
    "        Considere o uso do Databricks Repos, que é uma funcionalidade do Databricks para armazenar e gerenciar notebooks em um sistema de controle de versão integrado. Databricks Repos suporta Git, o que facilita o controle de versão e a colaboração sem a necessidade de integrações adicionais.\n",
    "\n",
    "Escolha a abordagem que melhor se alinha com os requisitos de segurança da sua organização e com a facilidade de integração desejada. Independentemente da opção escolhida, é fundamental manter as boas práticas de segurança ao lidar com credenciais e dados sensíveis."
   ]
  },
  {
   "cell_type": "markdown",
   "metadata": {
    "application/vnd.databricks.v1+cell": {
     "cellMetadata": {},
     "inputWidgets": {},
     "nuid": "4ce3e6a0-03e1-4260-a3ac-24907f19baaa",
     "showTitle": false,
     "title": ""
    }
   },
   "source": [
    "Após configurar o Git no seu notebook do Databricks e clonar o repositório do GitHub, você pode publicar seus notebooks no GitHub seguindo alguns passos básicos. Aqui estão os passos que você pode seguir:\n",
    "\n",
    "    Faça as Alterações no Notebook:\n",
    "        Abra o notebook no Databricks e faça as alterações que deseja publicar no GitHub.\n",
    "\n",
    "    Salve o Notebook:\n",
    "        Certifique-se de salvar o notebook após fazer as alterações.\n",
    "\n",
    "    Commit das Alterações:\n",
    "\n",
    "        No seu notebook Databricks, você pode usar a biblioteca GitPython para realizar o commit das alterações. Execute o seguinte código no notebook:\n",
    "\n",
    "        python\n",
    "\n",
    "    import git\n",
    "\n",
    "    # Substitua o diretório abaixo pelo diretório onde você clonou o repositório\n",
    "    repo_dir = \"/dbfs/tmp/repo\"\n",
    "\n",
    "    # Instanciar o repositório Git\n",
    "    repo = git.Repo(repo_dir)\n",
    "\n",
    "    # Adicionar todas as alterações ao commit\n",
    "    repo.git.add(\"--all\")\n",
    "\n",
    "    # Realizar o commit com uma mensagem\n",
    "    commit_message = \"Atualização do notebook\"\n",
    "    repo.index.commit(commit_message)\n",
    "\n",
    "Certifique-se de substituir \"/dbfs/tmp/repo\" pelo diretório onde você clonou o repositório.\n",
    "\n",
    "Push das Alterações para o GitHub:\n",
    "\n",
    "    Após o commit, você pode usar o seguinte código para realizar o push das alterações para o GitHub:\n",
    "\n",
    "    python\n",
    "\n",
    "        # Realizar o push para o GitHub\n",
    "        origin = repo.remote(name=\"origin\")\n",
    "        origin.push()\n",
    "\n",
    "    Este código realiza o push das alterações para o repositório remoto no GitHub.\n",
    "\n",
    "A partir deste ponto, as alterações feitas no notebook no Databricks foram enviadas para o GitHub. Você pode visualizar essas alterações no seu repositório do GitHub.\n",
    "\n",
    "Lembre-se de substituir as variáveis e diretórios nos códigos pelos valores específicos do seu ambiente. Além disso, certifique-se de manter suas credenciais de acesso ao GitHub de forma segura e considere o uso de métodos de autenticação seguros, como SSH."
   ]
  },
  {
   "cell_type": "code",
   "execution_count": 0,
   "metadata": {
    "application/vnd.databricks.v1+cell": {
     "cellMetadata": {},
     "inputWidgets": {},
     "nuid": "f3412d26-cea8-44cc-9444-1cc268ada9f3",
     "showTitle": false,
     "title": ""
    }
   },
   "outputs": [],
   "source": []
  }
 ],
 "metadata": {
  "application/vnd.databricks.v1+notebook": {
   "dashboards": [],
   "language": "python",
   "notebookMetadata": {
    "pythonIndentUnit": 2
   },
   "notebookName": "Configurar GitHub no Databricks Community",
   "widgets": {}
  }
 },
 "nbformat": 4,
 "nbformat_minor": 0
}
